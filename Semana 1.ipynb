{
 "cells": [
  {
   "cell_type": "markdown",
   "id": "b8dfb42c",
   "metadata": {},
   "source": [
    "   #                              **Know to Migrate**\n"
   ]
  },
  {
   "cell_type": "markdown",
   "id": "c0ecc5af",
   "metadata": {},
   "source": [
    "## 1.1 Background"
   ]
  },
  {
   "cell_type": "markdown",
   "id": "da7deae3",
   "metadata": {},
   "source": [
    "There are many reasons why, in recent years, migratory movements have been growing and the number of immigrants is increasing in developed countries: the search for better living and working conditions, the global labor market, economic inequalities Persistent social and demographic factors, human rights violations, environmental changes as well as conflict and violence are drivers of migration."
   ]
  },
  {
   "cell_type": "markdown",
   "id": "feca6adc",
   "metadata": {},
   "source": [
    "## 1.2 Problem"
   ]
  },
  {
   "cell_type": "markdown",
   "id": "654a2d06",
   "metadata": {},
   "source": [
    "The objective of this project is to parameterize and stimulate the migratory choice, through the analysis of the benefits and stability offered to its inhabitants by the countries with the best migration rates according to the ONU."
   ]
  },
  {
   "cell_type": "markdown",
   "id": "59b4be8d",
   "metadata": {},
   "source": [
    "## 1.3 Interest"
   ]
  },
  {
   "cell_type": "markdown",
   "id": "a7a0f05d",
   "metadata": {},
   "source": [
    "Anyone interested in changing their habitual residence (migrating), will know how they will be able to face the day to day and what challenges to expect. They will be able to assess the health costs, the level of security and the economic development of their future new home.\n",
    "It can also benefit countries interested in increasing their migration rate."
   ]
  },
  {
   "cell_type": "markdown",
   "id": "a5767eaa",
   "metadata": {},
   "source": [
    "## 2. Acquisition and cleaning of data"
   ]
  },
  {
   "cell_type": "markdown",
   "id": "3aa511c5",
   "metadata": {},
   "source": [
    "## 2.1 Data sources"
   ]
  },
  {
   "cell_type": "markdown",
   "id": "f742a385",
   "metadata": {},
   "source": [
    "The data was extracted from Wikipedia, which was nurtured by each of the world institutions representing each of the parameters analyzed."
   ]
  },
  {
   "cell_type": "markdown",
   "id": "474a9cd3",
   "metadata": {},
   "source": [
    "## 2.2 Data cleaning"
   ]
  },
  {
   "cell_type": "markdown",
   "id": "39d9d7b5",
   "metadata": {},
   "source": [
    "The data downloaded or extracted from multiple sources was cleaned individually, keeping as the main information the names of the countries with the highest rate of migrants. The rest of the tables were filtered and cleaned based on the list issued by the ONU.\n",
    "The data sets did not have the same volume of information in terms of years and countries per year, so the values ​​corresponding to 2019 were taken since in all the data sets it had all the values."
   ]
  },
  {
   "cell_type": "markdown",
   "id": "ea06de04",
   "metadata": {},
   "source": [
    "## 2.3 Function selection"
   ]
  },
  {
   "cell_type": "markdown",
   "id": "8128b4cf",
   "metadata": {},
   "source": [
    "The data was analyzed on a jupiter notebook and the following libraries were used:\n",
    "    "
   ]
  },
  {
   "cell_type": "markdown",
   "id": "d3d6e1d7",
   "metadata": {},
   "source": [
    "    * Numpy\n",
    "    * Pandas\n",
    "    * Requests\n",
    "    * BeautifulSoup4\n",
    "    * KMeans\n",
    "    * Matplotlib.pyplot\n",
    "    * Seaborn\n",
    "    * Folium"
   ]
  },
  {
   "cell_type": "code",
   "execution_count": null,
   "id": "d448a0aa",
   "metadata": {},
   "outputs": [],
   "source": []
  }
 ],
 "metadata": {
  "kernelspec": {
   "display_name": "Python 3 (ipykernel)",
   "language": "python",
   "name": "python3"
  },
  "language_info": {
   "codemirror_mode": {
    "name": "ipython",
    "version": 3
   },
   "file_extension": ".py",
   "mimetype": "text/x-python",
   "name": "python",
   "nbconvert_exporter": "python",
   "pygments_lexer": "ipython3",
   "version": "3.9.6"
  }
 },
 "nbformat": 4,
 "nbformat_minor": 5
}
