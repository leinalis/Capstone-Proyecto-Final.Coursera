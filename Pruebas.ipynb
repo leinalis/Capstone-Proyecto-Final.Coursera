{
  "nbformat": 4,
  "nbformat_minor": 0,
  "metadata": {
    "colab": {
      "name": "Pruebas.ipynb",
      "provenance": [],
      "authorship_tag": "ABX9TyNmsOS/eiNOgde/fkkXucUd",
      "include_colab_link": true
    },
    "kernelspec": {
      "name": "python3",
      "display_name": "Python 3"
    },
    "language_info": {
      "name": "python"
    }
  },
  "cells": [
    {
      "cell_type": "markdown",
      "metadata": {
        "id": "view-in-github",
        "colab_type": "text"
      },
      "source": [
        "<a href=\"https://colab.research.google.com/github/leinalis/CapstoneCoursera/blob/main/Pruebas.ipynb\" target=\"_parent\"><img src=\"https://colab.research.google.com/assets/colab-badge.svg\" alt=\"Open In Colab\"/></a>"
      ]
    },
    {
      "cell_type": "markdown",
      "metadata": {
        "id": "5MMDav-AU5Cy"
      },
      "source": [
        "## *Crear un programa que pida 2 Numeros y determine cual es par o si ambos lo son* "
      ]
    },
    {
      "cell_type": "code",
      "metadata": {
        "colab": {
          "base_uri": "https://localhost:8080/"
        },
        "id": "yBUPXaCzVmE1",
        "outputId": "028df8ac-2f7b-4655-f8e3-aad763338835"
      },
      "source": [
        "#CEAR VARIABLES DONDE SE PUEDAN INSERTAR LOS NUMEROS(DINAMICAS)\n",
        "n1=int(input(\"Ingrese el Primer Numero:   \"))\n",
        "n2=int(input(\"Ingrese en Segundo Numero:  \"))\n",
        "\n",
        "if n1%2==0 and n2%2==0:\n",
        "  print(\"Ambos numeros son pares\")\n",
        "\n",
        "elif n1%2==0 and n2%2!=0:\n",
        "  print(\"{} es un numero par \".format(n1))\n",
        "\n",
        "elif n1%2!=0 and n2%2==0:\n",
        "  print(\"{} es un numero par\".format(n2))\n",
        "\n",
        "else: \n",
        "  print(\"{} y {} son numeros impares\".format(n1,n2))\n"
      ],
      "execution_count": 36,
      "outputs": [
        {
          "output_type": "stream",
          "name": "stdout",
          "text": [
            "Ingrese el Primer Numero:   455\n",
            "Ingrese en Segundo Numero:  -455\n",
            "455 y -455 son numeros impares\n"
          ]
        }
      ]
    },
    {
      "cell_type": "markdown",
      "metadata": {
        "id": "6ApNOTiKb8Aq"
      },
      "source": [
        "## Situacion : *La entidad bancaria X se dedica al cambio de monedas,el valor monetario va variando durante el dia.*\n",
        "##  Solucion : **Realizar un programa que ayude a determinar en que horario es mejor comprar o vender**"
      ]
    },
    {
      "cell_type": "code",
      "metadata": {
        "colab": {
          "base_uri": "https://localhost:8080/"
        },
        "id": "ygGoM27gdYZ2",
        "outputId": "3c868c54-4c36-45a9-e860-58b2b5dbcd0e"
      },
      "source": [
        "\n",
        "# Horarios con mayor margen para los usuarios \n",
        "print(\"HORARIO MATUTINO\") \n",
        "m=(input(\"Precio de Compra (9:00 - 11:00)   \"))\n",
        "m1=(input(\"Precio de Venta (9:00 - 11:00)   \"))\n",
        "\n",
        "print(\"HORARIO TARDE\")\n",
        "t=(input(\"Precio de Compra (12:00 - 14:00)   \"))\n",
        "t1=(input(\"Precio de Venta (12:00 - 14:00)   \"))\n",
        "\n",
        "print(\"HORARIO TARDE NOCHE\")\n",
        "tn=(input(\"Precio de Compra (15:00 - 17:00)   \"))\n",
        "tn1=(input(\"Precio de Venta (15:00 - 17:00)   \"))\n",
        "\n",
        "print(\"HORARIO NOCHE\")\n",
        "n=(input(\"Precio de Compra (18:00)   \"))\n",
        "n1=(input(\"Precio de Venta (18:00)   \"))\n",
        "\n",
        "# Determinar en que horario es mas conveniente que los usuarios vendan sus dolares\n",
        "# UTILIZAR LOS VALORES INTRODUCIDOS EN LAS SECCIONES DE PRECIO DE COMPRA\n",
        "\n",
        "if m>t and m>tn and m>n:\n",
        "   print(\"EL MEJOR HORARIO PARA QUE LOS USUARIOS VENDAN SUS DOLLARES , ES DE 9:00 - 11:00\")\n",
        "elif t>m and t>tn and t>n:\n",
        "  print(\" EL MEJOR HORARIO PARA QUE LOS USUARIOS VENDAN SUS DOLLARES , ES DE 12:00 - 14:00\")\n",
        "elif tn>m and tn>t and tn>n:\n",
        "  print(\" EL MEJOR HORARIO PARA QUE LOS USUARIOS VENDAN SUS DOLLARES , ES DE 15:00 - 17:00\")\n",
        "elif n>m and n>t and n>tn:\n",
        "   print(\" EL MEJOR HORARIO PARA QUE LOS USUARIOS VENDAN SUS DOLLARES , ES DE  18:00\")\n",
        "\n",
        "# Determinar en que horario es mas conveniente que los usuarios compren sus dolares\n",
        "# UTILIZAR LOS VALORES INTRODUCIDOS EN LAS SECCIONES DE PRECIO DE VENTA\n",
        "\n",
        "if m1<t1 and m1<tn1 and m1<n1:\n",
        "   print(\"EL MEJOR HORARIO PARA QUE LOS USUARIOS COMPREN DOLLARES , ES DE  9:00 - 11:00\")\n",
        "elif tn1<m1 and t1<tn1 and t1<n1:\n",
        "  print(\" EL MEJOR HORARIO PARA QUE LOS USUARIOS COMPREN DOLLARES , ES DE  12:00 - 14:00\")\n",
        "elif tn1<m1 and tn1<t1 and tn1<n1:\n",
        "  print(\"EL MEJOR HORARIO PARA QUE LOS USUARIOS COMPREN DOLLARES , ES DE 15:00 - 17:00\")\n",
        "elif n1<m1 and n1<t1 and n1<tn1:\n",
        "  print(\"EL MEJOR HORARIO PARA QUE LOS USUARIOS COMPREN DOLLARES , ES DE  18:00\")\n",
        "\n",
        "\n",
        "\n",
        "\n",
        "\n",
        "\n",
        "\n"
      ],
      "execution_count": 40,
      "outputs": [
        {
          "output_type": "stream",
          "name": "stdout",
          "text": [
            "HORARIO MATUTINO\n",
            "Precio de Compra (9:00 - 11:00)   44.73\n",
            "Precio de Venta (9:00 - 11:00)   43.16\n",
            "HORARIO TARDE\n",
            "Precio de Compra (12:00 - 14:00)   44.65\n",
            "Precio de Venta (12:00 - 14:00)   46.17\n",
            "HORARIO TARDE NOCHE\n",
            "Precio de Compra (15:00 - 17:00)   44.49\n",
            "Precio de Venta (15:00 - 17:00)   46.12\n",
            "HORARIO NOCHE\n",
            "Precio de Compra (18:00)   45.00\n",
            "Precio de Venta (18:00)   46.00\n",
            " EL MEJOR HORARIO PARA QUE LOS USUARIOS VENDAN SUS DOLLARES , ES DE  18:00\n",
            "EL MEJOR HORARIO PARA QUE LOS USUARIOS COMPREN DOLLARES , ES DE  9:00 - 11:00\n"
          ]
        }
      ]
    }
  ]
}